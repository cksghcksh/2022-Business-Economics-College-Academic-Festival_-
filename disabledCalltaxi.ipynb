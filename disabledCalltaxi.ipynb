{
  "nbformat": 4,
  "nbformat_minor": 0,
  "metadata": {
    "colab": {
      "name": "disabledCalltaxi",
      "provenance": []
    },
    "kernelspec": {
      "name": "python3",
      "display_name": "Python 3"
    },
    "language_info": {
      "name": "python"
    },
    "accelerator": "GPU"
  },
  "cells": [
    {
      "cell_type": "code",
      "execution_count": 3,
      "metadata": {
        "colab": {
          "base_uri": "https://localhost:8080/",
          "height": 486
        },
        "id": "O9l3W5oJjaOR",
        "outputId": "709161fd-cc08-47f1-9b22-8acf7e2e9584"
      },
      "outputs": [
        {
          "output_type": "error",
          "ename": "ValueError",
          "evalue": "ignored",
          "traceback": [
            "\u001b[0;31m---------------------------------------------------------------------------\u001b[0m",
            "\u001b[0;31mAssertionError\u001b[0m                            Traceback (most recent call last)",
            "\u001b[0;32m/usr/local/lib/python3.7/dist-packages/pandas/core/internals/construction.py\u001b[0m in \u001b[0;36m_finalize_columns_and_data\u001b[0;34m(content, columns, dtype)\u001b[0m\n\u001b[1;32m    905\u001b[0m     \u001b[0;32mtry\u001b[0m\u001b[0;34m:\u001b[0m\u001b[0;34m\u001b[0m\u001b[0;34m\u001b[0m\u001b[0m\n\u001b[0;32m--> 906\u001b[0;31m         \u001b[0mcolumns\u001b[0m \u001b[0;34m=\u001b[0m \u001b[0m_validate_or_indexify_columns\u001b[0m\u001b[0;34m(\u001b[0m\u001b[0mcontents\u001b[0m\u001b[0;34m,\u001b[0m \u001b[0mcolumns\u001b[0m\u001b[0;34m)\u001b[0m\u001b[0;34m\u001b[0m\u001b[0;34m\u001b[0m\u001b[0m\n\u001b[0m\u001b[1;32m    907\u001b[0m     \u001b[0;32mexcept\u001b[0m \u001b[0mAssertionError\u001b[0m \u001b[0;32mas\u001b[0m \u001b[0merr\u001b[0m\u001b[0;34m:\u001b[0m\u001b[0;34m\u001b[0m\u001b[0;34m\u001b[0m\u001b[0m\n",
            "\u001b[0;32m/usr/local/lib/python3.7/dist-packages/pandas/core/internals/construction.py\u001b[0m in \u001b[0;36m_validate_or_indexify_columns\u001b[0;34m(content, columns)\u001b[0m\n\u001b[1;32m    954\u001b[0m             raise AssertionError(\n\u001b[0;32m--> 955\u001b[0;31m                 \u001b[0;34mf\"{len(columns)} columns passed, passed data had \"\u001b[0m\u001b[0;34m\u001b[0m\u001b[0;34m\u001b[0m\u001b[0m\n\u001b[0m\u001b[1;32m    956\u001b[0m                 \u001b[0;34mf\"{len(content)} columns\"\u001b[0m\u001b[0;34m\u001b[0m\u001b[0;34m\u001b[0m\u001b[0m\n",
            "\u001b[0;31mAssertionError\u001b[0m: 9 columns passed, passed data had 2241 columns",
            "\nThe above exception was the direct cause of the following exception:\n",
            "\u001b[0;31mValueError\u001b[0m                                Traceback (most recent call last)",
            "\u001b[0;32m<ipython-input-3-26baa9d65990>\u001b[0m in \u001b[0;36m<module>\u001b[0;34m()\u001b[0m\n\u001b[1;32m     39\u001b[0m     \u001b[0mvalue_list\u001b[0m\u001b[0;34m=\u001b[0m\u001b[0;34m[\u001b[0m\u001b[0;34m]\u001b[0m\u001b[0;34m\u001b[0m\u001b[0;34m\u001b[0m\u001b[0m\n\u001b[1;32m     40\u001b[0m \u001b[0;34m\u001b[0m\u001b[0m\n\u001b[0;32m---> 41\u001b[0;31m \u001b[0mCalltaxi\u001b[0m \u001b[0;34m=\u001b[0m \u001b[0mpd\u001b[0m\u001b[0;34m.\u001b[0m\u001b[0mDataFrame\u001b[0m\u001b[0;34m(\u001b[0m\u001b[0mrow_list\u001b[0m\u001b[0;34m,\u001b[0m \u001b[0mcolumns\u001b[0m\u001b[0;34m=\u001b[0m\u001b[0mname_list\u001b[0m\u001b[0;34m)\u001b[0m\u001b[0;34m\u001b[0m\u001b[0;34m\u001b[0m\u001b[0m\n\u001b[0m\u001b[1;32m     42\u001b[0m \u001b[0;34m\u001b[0m\u001b[0m\n",
            "\u001b[0;32m/usr/local/lib/python3.7/dist-packages/pandas/core/frame.py\u001b[0m in \u001b[0;36m__init__\u001b[0;34m(self, data, index, columns, dtype, copy)\u001b[0m\n\u001b[1;32m    698\u001b[0m                         \u001b[0mcolumns\u001b[0m\u001b[0;34m,\u001b[0m\u001b[0;34m\u001b[0m\u001b[0;34m\u001b[0m\u001b[0m\n\u001b[1;32m    699\u001b[0m                         \u001b[0mindex\u001b[0m\u001b[0;34m,\u001b[0m  \u001b[0;31m# type: ignore[arg-type]\u001b[0m\u001b[0;34m\u001b[0m\u001b[0;34m\u001b[0m\u001b[0m\n\u001b[0;32m--> 700\u001b[0;31m                         \u001b[0mdtype\u001b[0m\u001b[0;34m,\u001b[0m\u001b[0;34m\u001b[0m\u001b[0;34m\u001b[0m\u001b[0m\n\u001b[0m\u001b[1;32m    701\u001b[0m                     )\n\u001b[1;32m    702\u001b[0m                     mgr = arrays_to_mgr(\n",
            "\u001b[0;32m/usr/local/lib/python3.7/dist-packages/pandas/core/internals/construction.py\u001b[0m in \u001b[0;36mnested_data_to_arrays\u001b[0;34m(data, columns, index, dtype)\u001b[0m\n\u001b[1;32m    481\u001b[0m         \u001b[0mcolumns\u001b[0m \u001b[0;34m=\u001b[0m \u001b[0mensure_index\u001b[0m\u001b[0;34m(\u001b[0m\u001b[0mdata\u001b[0m\u001b[0;34m[\u001b[0m\u001b[0;36m0\u001b[0m\u001b[0;34m]\u001b[0m\u001b[0;34m.\u001b[0m\u001b[0m_fields\u001b[0m\u001b[0;34m)\u001b[0m\u001b[0;34m\u001b[0m\u001b[0;34m\u001b[0m\u001b[0m\n\u001b[1;32m    482\u001b[0m \u001b[0;34m\u001b[0m\u001b[0m\n\u001b[0;32m--> 483\u001b[0;31m     \u001b[0marrays\u001b[0m\u001b[0;34m,\u001b[0m \u001b[0mcolumns\u001b[0m \u001b[0;34m=\u001b[0m \u001b[0mto_arrays\u001b[0m\u001b[0;34m(\u001b[0m\u001b[0mdata\u001b[0m\u001b[0;34m,\u001b[0m \u001b[0mcolumns\u001b[0m\u001b[0;34m,\u001b[0m \u001b[0mdtype\u001b[0m\u001b[0;34m=\u001b[0m\u001b[0mdtype\u001b[0m\u001b[0;34m)\u001b[0m\u001b[0;34m\u001b[0m\u001b[0;34m\u001b[0m\u001b[0m\n\u001b[0m\u001b[1;32m    484\u001b[0m     \u001b[0mcolumns\u001b[0m \u001b[0;34m=\u001b[0m \u001b[0mensure_index\u001b[0m\u001b[0;34m(\u001b[0m\u001b[0mcolumns\u001b[0m\u001b[0;34m)\u001b[0m\u001b[0;34m\u001b[0m\u001b[0;34m\u001b[0m\u001b[0m\n\u001b[1;32m    485\u001b[0m \u001b[0;34m\u001b[0m\u001b[0m\n",
            "\u001b[0;32m/usr/local/lib/python3.7/dist-packages/pandas/core/internals/construction.py\u001b[0m in \u001b[0;36mto_arrays\u001b[0;34m(data, columns, dtype)\u001b[0m\n\u001b[1;32m    805\u001b[0m         \u001b[0marr\u001b[0m \u001b[0;34m=\u001b[0m \u001b[0m_list_to_arrays\u001b[0m\u001b[0;34m(\u001b[0m\u001b[0mdata\u001b[0m\u001b[0;34m)\u001b[0m\u001b[0;34m\u001b[0m\u001b[0;34m\u001b[0m\u001b[0m\n\u001b[1;32m    806\u001b[0m \u001b[0;34m\u001b[0m\u001b[0m\n\u001b[0;32m--> 807\u001b[0;31m     \u001b[0mcontent\u001b[0m\u001b[0;34m,\u001b[0m \u001b[0mcolumns\u001b[0m \u001b[0;34m=\u001b[0m \u001b[0m_finalize_columns_and_data\u001b[0m\u001b[0;34m(\u001b[0m\u001b[0marr\u001b[0m\u001b[0;34m,\u001b[0m \u001b[0mcolumns\u001b[0m\u001b[0;34m,\u001b[0m \u001b[0mdtype\u001b[0m\u001b[0;34m)\u001b[0m\u001b[0;34m\u001b[0m\u001b[0;34m\u001b[0m\u001b[0m\n\u001b[0m\u001b[1;32m    808\u001b[0m     \u001b[0;32mreturn\u001b[0m \u001b[0mcontent\u001b[0m\u001b[0;34m,\u001b[0m \u001b[0mcolumns\u001b[0m\u001b[0;34m\u001b[0m\u001b[0;34m\u001b[0m\u001b[0m\n\u001b[1;32m    809\u001b[0m \u001b[0;34m\u001b[0m\u001b[0m\n",
            "\u001b[0;32m/usr/local/lib/python3.7/dist-packages/pandas/core/internals/construction.py\u001b[0m in \u001b[0;36m_finalize_columns_and_data\u001b[0;34m(content, columns, dtype)\u001b[0m\n\u001b[1;32m    907\u001b[0m     \u001b[0;32mexcept\u001b[0m \u001b[0mAssertionError\u001b[0m \u001b[0;32mas\u001b[0m \u001b[0merr\u001b[0m\u001b[0;34m:\u001b[0m\u001b[0;34m\u001b[0m\u001b[0;34m\u001b[0m\u001b[0m\n\u001b[1;32m    908\u001b[0m         \u001b[0;31m# GH#26429 do not raise user-facing AssertionError\u001b[0m\u001b[0;34m\u001b[0m\u001b[0;34m\u001b[0m\u001b[0;34m\u001b[0m\u001b[0m\n\u001b[0;32m--> 909\u001b[0;31m         \u001b[0;32mraise\u001b[0m \u001b[0mValueError\u001b[0m\u001b[0;34m(\u001b[0m\u001b[0merr\u001b[0m\u001b[0;34m)\u001b[0m \u001b[0;32mfrom\u001b[0m \u001b[0merr\u001b[0m\u001b[0;34m\u001b[0m\u001b[0;34m\u001b[0m\u001b[0m\n\u001b[0m\u001b[1;32m    910\u001b[0m \u001b[0;34m\u001b[0m\u001b[0m\n\u001b[1;32m    911\u001b[0m     \u001b[0;32mif\u001b[0m \u001b[0mlen\u001b[0m\u001b[0;34m(\u001b[0m\u001b[0mcontents\u001b[0m\u001b[0;34m)\u001b[0m \u001b[0;32mand\u001b[0m \u001b[0mcontents\u001b[0m\u001b[0;34m[\u001b[0m\u001b[0;36m0\u001b[0m\u001b[0;34m]\u001b[0m\u001b[0;34m.\u001b[0m\u001b[0mdtype\u001b[0m \u001b[0;34m==\u001b[0m \u001b[0mnp\u001b[0m\u001b[0;34m.\u001b[0m\u001b[0mobject_\u001b[0m\u001b[0;34m:\u001b[0m\u001b[0;34m\u001b[0m\u001b[0;34m\u001b[0m\u001b[0m\n",
            "\u001b[0;31mValueError\u001b[0m: 9 columns passed, passed data had 2241 columns"
          ]
        }
      ],
      "source": [
        "#장애인 콜 시스템 분석\n",
        "import requests\n",
        "import pprint\n",
        "import json\n",
        "import pandas as pd\n",
        "from os import name\n",
        "import xml.etree.ElementTree as et\n",
        "import bs4\n",
        "from lxml import html\n",
        "from urllib.parse import urlencode, quote_plus, unquote\n",
        "\n",
        "#API KEY\n",
        "my_key = '46454c487563686139374b4a4a486f'\n",
        "\n",
        "start = '20220101'\n",
        "end = '20220501'\n",
        "\n",
        "dt_index = pd.date_range(start = start, end = end)\n",
        "dt_list = dt_index.strftime(\"%Y%m%d\").tolist()\n",
        "\n",
        "\n",
        "for i in dt_list:\n",
        "    endpoint=f\"http://openapi.seoul.go.kr:8088/46454c487563686139374b4a4a486f/xml/disabledCalltaxi/1/5/\" + i\n",
        "    resp=requests.get(endpoint)\n",
        "    xml_obj = bs4.BeautifulSoup(resp.text,'lxml-xml')\n",
        "    rows = xml_obj.findAll('item')\n",
        "    # 각 행의 컬럼, 이름, 값을 가지는 리스트 만들기\n",
        "    row_list = [] # 행값\n",
        "    name_list = [] # 열이름값\n",
        "    value_list = [] #데이터값\n",
        "    # xml 안의 데이터 수집\n",
        "    for k in range(0, len(rows)):\n",
        "          columns = rows[k].find_all()\n",
        "          for j in range(0,len(columns)):\n",
        "            if k ==0:\n",
        "              name_list.append(columns[j].name)\n",
        "            value_list.append(columns[j].text)\n",
        "    row_list.append(value_list)\n",
        "    value_list=[]\n",
        "\n",
        "Calltaxi = pd.DataFrame(row_list, columns=name_list)\n",
        "\n"
      ]
    },
    {
      "cell_type": "code",
      "source": [
        "# 샘플 url 변형해서 사용\n",
        "endpoint=f\"http://openapi.seoul.go.kr:8088/46454c487563686139374b4a4a486f/xml/disabledCalltaxi/1/5/20190521\"\n",
        "\n",
        "#api 호출\n",
        "resp=requests.get(endpoint)\n",
        "print(resp.status_code)\n",
        "print(resp.text)\n",
        "\n",
        "\n",
        "xml_obj = bs4.BeautifulSoup(resp.text,'lxml-xml')\n",
        "rows = xml_obj.findAll('item')\n",
        "print(rows)\n"
      ],
      "metadata": {
        "id": "pUkJgzoisM0P"
      },
      "execution_count": null,
      "outputs": []
    },
    {
      "cell_type": "code",
      "source": [
        "# 각 행의 컬럼, 이름, 값을 가지는 리스트 만들기\n",
        "row_list = [] # 행값\n",
        "name_list = [] # 열이름값\n",
        "value_list = [] #데이터값\n",
        "\n",
        "# xml 안의 데이터 수집\n",
        "for i in range(0, len(rows)):\n",
        "    columns = rows[i].find_all()\n",
        "    #첫째 행 데이터 수집\n",
        "    for j in range(0,len(columns)):\n",
        "        if i ==0:\n",
        "            # 컬럼 이름 값 저장\n",
        "            name_list.append(columns[j].name)\n",
        "        # 컬럼의 각 데이터 값 저장\n",
        "        value_list.append(columns[j].text)\n",
        "    # 각 행의 value값 전체 저장\n",
        "    row_list.append(value_list)\n",
        "    # 데이터 리스트 값 초기화\n",
        "    value_list=[]"
      ],
      "metadata": {
        "id": "dOfbAegevMdw"
      },
      "execution_count": null,
      "outputs": []
    },
    {
      "cell_type": "code",
      "source": [
        "Calltaxi = pd.DataFrame(row_list, columns=name_list)\n",
        "print(Calltaxi)"
      ],
      "metadata": {
        "colab": {
          "base_uri": "https://localhost:8080/"
        },
        "id": "p63capOZ4NPQ",
        "outputId": "bddfa946-3d9f-4fe5-b2e9-4e1411764c82"
      },
      "execution_count": null,
      "outputs": [
        {
          "output_type": "stream",
          "name": "stdout",
          "text": [
            "       no cartype             receipttime                 settime  \\\n",
            "0    5790    중형승합  2019-05-21 오전 12:05:00  2019-05-21 오전 12:05:38   \n",
            "1    5799    중형승합  2019-05-21 오전 12:14:00  2019-05-21 오전 12:16:40   \n",
            "2    7655    중형승합  2019-05-21 오전 12:28:00  2019-05-21 오전 12:55:05   \n",
            "3    5790    중형승합  2019-05-21 오전 12:29:50  2019-05-21 오전 12:31:20   \n",
            "4    9540    중형승합  2019-05-21 오전 12:49:00   2019-05-21 오전 1:33:59   \n",
            "..    ...     ...                     ...                     ...   \n",
            "244  5697    중형승합   2019-05-21 오전 7:00:00   2019-05-21 오전 7:10:24   \n",
            "245  6015    중형승용   2019-05-21 오전 7:00:00   2019-05-21 오전 7:01:08   \n",
            "246  1101    중형승합   2019-05-21 오전 7:00:00   2019-05-21 오전 7:07:14   \n",
            "247  1101    중형승합   2019-05-21 오전 7:00:00   2019-05-21 오전 8:12:32   \n",
            "248   824    중형승합   2019-05-21 오전 7:00:00   2019-05-21 오전 8:13:03   \n",
            "\n",
            "                   ridetime startpos1    startpos2 endpos1 endpos2  \n",
            "0    2019-05-21 오전 12:15:19      동대문구        전농제2동     노원구  중계2.3동  \n",
            "1    2019-05-21 오전 12:36:07        중구          회현동     강서구   화곡제1동  \n",
            "2     2019-05-21 오전 1:16:24       종로구  종로1.2.3.4가동     종로구     부암동  \n",
            "3    2019-05-21 오전 12:44:20       도봉구         창제4동     노원구  상계6.7동  \n",
            "4     2019-05-21 오전 1:52:05       강서구        가양제2동     금천구   독산제1동  \n",
            "..                      ...       ...          ...     ...     ...  \n",
            "244   2019-05-21 오전 7:33:03       관악구          삼성동     관악구    보라매동  \n",
            "245   2019-05-21 오전 7:22:08       광진구        중곡제4동     강남구    일원1동  \n",
            "246   2019-05-21 오전 7:29:59       양천구         신정2동     은평구     역촌동  \n",
            "247   2019-05-21 오전 8:22:44       은평구        신사제1동    서대문구     연희동  \n",
            "248   2019-05-21 오전 8:43:45       서초구         서초2동     서초구    반포4동  \n",
            "\n",
            "[249 rows x 9 columns]\n"
          ]
        }
      ]
    },
    {
      "cell_type": "code",
      "source": [
        "Calltaxi.info()"
      ],
      "metadata": {
        "colab": {
          "base_uri": "https://localhost:8080/"
        },
        "id": "uLTqgj3L4XTk",
        "outputId": "22dd9573-c69b-421f-ca0d-3de8fd53aa5c"
      },
      "execution_count": null,
      "outputs": [
        {
          "output_type": "stream",
          "name": "stdout",
          "text": [
            "<class 'pandas.core.frame.DataFrame'>\n",
            "RangeIndex: 249 entries, 0 to 248\n",
            "Data columns (total 9 columns):\n",
            " #   Column       Non-Null Count  Dtype \n",
            "---  ------       --------------  ----- \n",
            " 0   no           249 non-null    object\n",
            " 1   cartype      249 non-null    object\n",
            " 2   receipttime  249 non-null    object\n",
            " 3   settime      249 non-null    object\n",
            " 4   ridetime     249 non-null    object\n",
            " 5   startpos1    249 non-null    object\n",
            " 6   startpos2    249 non-null    object\n",
            " 7   endpos1      249 non-null    object\n",
            " 8   endpos2      249 non-null    object\n",
            "dtypes: object(9)\n",
            "memory usage: 17.6+ KB\n"
          ]
        }
      ]
    },
    {
      "cell_type": "code",
      "source": [
        "pal = pd.read_excel(\"location.xlsx\")\n",
        "\n",
        "pal = pal[pal.시도 =='서울특별시']\n",
        "pal = pal[['코드','시군구','읍면동','위도','경도']]\n",
        "pal = pal.rename(columns={'읍면동':'동'})\n",
        "pal['동']=pal['동'].str.strip(\"제\")\n",
        "\n",
        "pal = pal.replace('창신제1동','창신1동')\n",
        "pal = pal.replace('창신제2동','창신2동')\n",
        "pal = pal.replace('창신제3동','창신3동')\n",
        "pal = pal.replace('숭인제1동','숭인1동')\n",
        "pal = pal.replace('숭인제2동','숭인2동')\n",
        "\n",
        "pal = pal.apply(lambda x: x.str.strip(\"제\"), axis = 1)\n",
        "pal['동'].replace('제', '', inplace=True)\n",
        "\n",
        "data = pd.merge(pal, Calltaxi, on=\"동\")\n",
        "data"
      ],
      "metadata": {
        "id": "jSIiUf2Y4pHs"
      },
      "execution_count": null,
      "outputs": []
    },
    {
      "cell_type": "code",
      "source": [
        "import folium\n",
        "from folium import plugins\n",
        "\n",
        "# 서울 행정구역 json raw파일(githubcontent)\n",
        "r = requests.get('https://raw.githubusercontent.com/southkorea/seoul-maps/master/kostat/2013/json/seoul_municipalities_geo_simple.json')\n",
        "c = r.content\n",
        "seoul_geo = json.loads(c)\n",
        "\n",
        "geo_data = 'TL_SCCO_SIG.json'\n",
        "\n",
        "m = folium.Map(\n",
        "    location=[37.559819, 126.963895],\n",
        "    zoom_start=12, \n",
        "    tiles='cartodbpositron'\n",
        ") \n",
        "\n",
        "folium.GeoJson(\n",
        "    seoul_geo,\n",
        "    name='지역동'\n",
        ").add_to(m)\n",
        "\n",
        "marker_cluster = MarkerCluster().add_to(m)\n",
        "\n",
        "for lat, long in zip(data['위도'], data['경도']):\n",
        "    folium.Marker([lat, long], icon = folium.Icon(color=\"green\")).add_to(marker_cluster)\n",
        "\n",
        "m\n",
        "\n",
        "map_data = folium.Map([35.765788, 128.619197], zoom_start=10)\n",
        "lines = route_31_pos.values[:].tolist()\n",
        "\n",
        "folium.PolyLine( \n",
        "    locations=lines,\n",
        "    fill=True,\n",
        "    color='orange').add_to(map_data)\n",
        "\n",
        "map_data"
      ],
      "metadata": {
        "id": "faz2bjUB495A"
      },
      "execution_count": null,
      "outputs": []
    }
  ]
}